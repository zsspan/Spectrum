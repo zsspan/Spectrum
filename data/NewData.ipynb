{
 "cells": [
  {
   "cell_type": "code",
   "execution_count": 2,
   "id": "ffa3c8e9",
   "metadata": {},
   "outputs": [],
   "source": [
    "import pandas as pd\n",
    "import spacy"
   ]
  },
  {
   "cell_type": "code",
   "execution_count": 14,
   "id": "e5e1b928",
   "metadata": {},
   "outputs": [],
   "source": [
    "df = pd.read_csv('political_articles2.csv')"
   ]
  },
  {
   "cell_type": "code",
   "execution_count": 15,
   "id": "0c082687",
   "metadata": {},
   "outputs": [
    {
     "data": {
      "text/html": [
       "<div>\n",
       "<style scoped>\n",
       "    .dataframe tbody tr th:only-of-type {\n",
       "        vertical-align: middle;\n",
       "    }\n",
       "\n",
       "    .dataframe tbody tr th {\n",
       "        vertical-align: top;\n",
       "    }\n",
       "\n",
       "    .dataframe thead th {\n",
       "        text-align: right;\n",
       "    }\n",
       "</style>\n",
       "<table border=\"1\" class=\"dataframe\">\n",
       "  <thead>\n",
       "    <tr style=\"text-align: right;\">\n",
       "      <th></th>\n",
       "      <th>text</th>\n",
       "      <th>label</th>\n",
       "    </tr>\n",
       "  </thead>\n",
       "  <tbody>\n",
       "    <tr>\n",
       "      <th>0</th>\n",
       "      <td>Pfizer says its Covid-19 vaccine is safe and 1...</td>\n",
       "      <td>Left Data</td>\n",
       "    </tr>\n",
       "    <tr>\n",
       "      <th>1</th>\n",
       "      <td>The NBC-Wall Street Journal's latest national ...</td>\n",
       "      <td>Left Data</td>\n",
       "    </tr>\n",
       "    <tr>\n",
       "      <th>2</th>\n",
       "      <td>September 19th, 2012   06:58 AM ET...</td>\n",
       "      <td>Left Data</td>\n",
       "    </tr>\n",
       "    <tr>\n",
       "      <th>3</th>\n",
       "      <td>Story highlightsCNN/ORC International poll: Si...</td>\n",
       "      <td>Left Data</td>\n",
       "    </tr>\n",
       "    <tr>\n",
       "      <th>4</th>\n",
       "      <td>Washington (CNN)Dr. Anthony Fauci, the nation'...</td>\n",
       "      <td>Left Data</td>\n",
       "    </tr>\n",
       "  </tbody>\n",
       "</table>\n",
       "</div>"
      ],
      "text/plain": [
       "                                                text      label\n",
       "0  Pfizer says its Covid-19 vaccine is safe and 1...  Left Data\n",
       "1  The NBC-Wall Street Journal's latest national ...  Left Data\n",
       "2              September 19th, 2012   06:58 AM ET...  Left Data\n",
       "3  Story highlightsCNN/ORC International poll: Si...  Left Data\n",
       "4  Washington (CNN)Dr. Anthony Fauci, the nation'...  Left Data"
      ]
     },
     "execution_count": 15,
     "metadata": {},
     "output_type": "execute_result"
    }
   ],
   "source": [
    "df.head()\n",
    "# although the 'text' column is short, we will try running basic ML"
   ]
  },
  {
   "cell_type": "code",
   "execution_count": 16,
   "id": "f16c61d3",
   "metadata": {},
   "outputs": [
    {
     "data": {
      "text/html": [
       "<div>\n",
       "<style scoped>\n",
       "    .dataframe tbody tr th:only-of-type {\n",
       "        vertical-align: middle;\n",
       "    }\n",
       "\n",
       "    .dataframe tbody tr th {\n",
       "        vertical-align: top;\n",
       "    }\n",
       "\n",
       "    .dataframe thead th {\n",
       "        text-align: right;\n",
       "    }\n",
       "</style>\n",
       "<table border=\"1\" class=\"dataframe\">\n",
       "  <thead>\n",
       "    <tr style=\"text-align: right;\">\n",
       "      <th></th>\n",
       "      <th>text</th>\n",
       "      <th>label</th>\n",
       "    </tr>\n",
       "  </thead>\n",
       "  <tbody>\n",
       "    <tr>\n",
       "      <th>0</th>\n",
       "      <td>Pfizer says its Covid-19 vaccine is safe and 1...</td>\n",
       "      <td>left</td>\n",
       "    </tr>\n",
       "    <tr>\n",
       "      <th>1</th>\n",
       "      <td>The NBC-Wall Street Journal's latest national ...</td>\n",
       "      <td>left</td>\n",
       "    </tr>\n",
       "    <tr>\n",
       "      <th>2</th>\n",
       "      <td>September 19th, 2012   06:58 AM ET...</td>\n",
       "      <td>left</td>\n",
       "    </tr>\n",
       "    <tr>\n",
       "      <th>3</th>\n",
       "      <td>Story highlightsCNN/ORC International poll: Si...</td>\n",
       "      <td>left</td>\n",
       "    </tr>\n",
       "    <tr>\n",
       "      <th>4</th>\n",
       "      <td>Washington (CNN)Dr. Anthony Fauci, the nation'...</td>\n",
       "      <td>left</td>\n",
       "    </tr>\n",
       "    <tr>\n",
       "      <th>...</th>\n",
       "      <td>...</td>\n",
       "      <td>...</td>\n",
       "    </tr>\n",
       "    <tr>\n",
       "      <th>17357</th>\n",
       "      <td>By Daniel De SimoneBBC NewsImage source, COUNT...</td>\n",
       "      <td>center</td>\n",
       "    </tr>\n",
       "    <tr>\n",
       "      <th>17358</th>\n",
       "      <td>...</td>\n",
       "      <td>center</td>\n",
       "    </tr>\n",
       "    <tr>\n",
       "      <th>17359</th>\n",
       "      <td>...</td>\n",
       "      <td>center</td>\n",
       "    </tr>\n",
       "    <tr>\n",
       "      <th>17360</th>\n",
       "      <td>President BidenJoe BidenUS could spend M month...</td>\n",
       "      <td>center</td>\n",
       "    </tr>\n",
       "    <tr>\n",
       "      <th>17361</th>\n",
       "      <td>Telecommunications workers Chris Viens and Guy...</td>\n",
       "      <td>center</td>\n",
       "    </tr>\n",
       "  </tbody>\n",
       "</table>\n",
       "<p>17362 rows × 2 columns</p>\n",
       "</div>"
      ],
      "text/plain": [
       "                                                    text   label\n",
       "0      Pfizer says its Covid-19 vaccine is safe and 1...    left\n",
       "1      The NBC-Wall Street Journal's latest national ...    left\n",
       "2                  September 19th, 2012   06:58 AM ET...    left\n",
       "3      Story highlightsCNN/ORC International poll: Si...    left\n",
       "4      Washington (CNN)Dr. Anthony Fauci, the nation'...    left\n",
       "...                                                  ...     ...\n",
       "17357  By Daniel De SimoneBBC NewsImage source, COUNT...  center\n",
       "17358                                                ...  center\n",
       "17359                                                ...  center\n",
       "17360  President BidenJoe BidenUS could spend M month...  center\n",
       "17361  Telecommunications workers Chris Viens and Guy...  center\n",
       "\n",
       "[17362 rows x 2 columns]"
      ]
     },
     "execution_count": 16,
     "metadata": {},
     "output_type": "execute_result"
    }
   ],
   "source": [
    "df['label'] = df['label'].apply(lambda x: 'left' if x == 'Left Data' else ('right' if x == 'Right Data' else 'center'))\n",
    "df"
   ]
  },
  {
   "cell_type": "code",
   "execution_count": 19,
   "id": "ff4b10e8",
   "metadata": {},
   "outputs": [],
   "source": [
    "nlp = spacy.load('en_core_web_sm')\n",
    "nlp.max_length = 1500000"
   ]
  },
  {
   "cell_type": "code",
   "execution_count": 20,
   "id": "e0710aad",
   "metadata": {},
   "outputs": [],
   "source": [
    "def preprocess_text(text):\n",
    "    if not isinstance(text, str):\n",
    "        return ''  # or return None or some other placeholder\n",
    "    doc = nlp(text)\n",
    "    processed_tokens = [token.lemma_ for token in doc if not token.is_stop and not token.is_punct]\n",
    "    return ' '.join(processed_tokens)  # Join back into a string (if desired)\n",
    "\n",
    "df['text_proc'] = df['text'].apply(preprocess_text)\n"
   ]
  },
  {
   "cell_type": "code",
   "execution_count": 21,
   "id": "6fe59c71",
   "metadata": {},
   "outputs": [
    {
     "data": {
      "text/plain": [
       "0        Pfizer say Covid-19 vaccine safe 100 percent e...\n",
       "1        NBC Wall Street Journal late national poll rel...\n",
       "2                     September 19th 2012    06:58 et  ...\n",
       "3        story highlightsCNN ORC International poll 10 ...\n",
       "4        Washington CNN)Dr Anthony Fauci nation infecti...\n",
       "                               ...                        \n",
       "17357    Daniel De SimoneBBC NewsImage source COUNTER t...\n",
       "17358                                                  ...\n",
       "17359                                                  ...\n",
       "17360    President BidenJoe bidenus spend M monthly tes...\n",
       "17361    telecommunication worker Chris Viens Guy Glove...\n",
       "Name: text_proc, Length: 17362, dtype: object"
      ]
     },
     "execution_count": 21,
     "metadata": {},
     "output_type": "execute_result"
    }
   ],
   "source": [
    "df['text_proc']"
   ]
  },
  {
   "cell_type": "code",
   "execution_count": 22,
   "id": "39053dbe",
   "metadata": {},
   "outputs": [],
   "source": [
    "from sklearn.feature_extraction.text import TfidfVectorizer\n",
    "\n",
    "vectorizer = TfidfVectorizer()\n",
    "X = vectorizer.fit_transform(df['text_proc'])\n",
    "\n",
    "# X_dense is the feature vectors"
   ]
  },
  {
   "cell_type": "code",
   "execution_count": 23,
   "id": "00226ab0",
   "metadata": {},
   "outputs": [],
   "source": [
    "from sklearn.model_selection import train_test_split\n",
    "from sklearn.linear_model import LogisticRegression\n",
    "from sklearn.tree import DecisionTreeClassifier\n",
    "from sklearn.ensemble import RandomForestClassifier\n",
    "from sklearn.metrics import confusion_matrix, classification_report"
   ]
  },
  {
   "cell_type": "code",
   "execution_count": 34,
   "id": "e0aa2896",
   "metadata": {},
   "outputs": [
    {
     "data": {
      "text/html": [
       "<style>#sk-container-id-3 {color: black;}#sk-container-id-3 pre{padding: 0;}#sk-container-id-3 div.sk-toggleable {background-color: white;}#sk-container-id-3 label.sk-toggleable__label {cursor: pointer;display: block;width: 100%;margin-bottom: 0;padding: 0.3em;box-sizing: border-box;text-align: center;}#sk-container-id-3 label.sk-toggleable__label-arrow:before {content: \"▸\";float: left;margin-right: 0.25em;color: #696969;}#sk-container-id-3 label.sk-toggleable__label-arrow:hover:before {color: black;}#sk-container-id-3 div.sk-estimator:hover label.sk-toggleable__label-arrow:before {color: black;}#sk-container-id-3 div.sk-toggleable__content {max-height: 0;max-width: 0;overflow: hidden;text-align: left;background-color: #f0f8ff;}#sk-container-id-3 div.sk-toggleable__content pre {margin: 0.2em;color: black;border-radius: 0.25em;background-color: #f0f8ff;}#sk-container-id-3 input.sk-toggleable__control:checked~div.sk-toggleable__content {max-height: 200px;max-width: 100%;overflow: auto;}#sk-container-id-3 input.sk-toggleable__control:checked~label.sk-toggleable__label-arrow:before {content: \"▾\";}#sk-container-id-3 div.sk-estimator input.sk-toggleable__control:checked~label.sk-toggleable__label {background-color: #d4ebff;}#sk-container-id-3 div.sk-label input.sk-toggleable__control:checked~label.sk-toggleable__label {background-color: #d4ebff;}#sk-container-id-3 input.sk-hidden--visually {border: 0;clip: rect(1px 1px 1px 1px);clip: rect(1px, 1px, 1px, 1px);height: 1px;margin: -1px;overflow: hidden;padding: 0;position: absolute;width: 1px;}#sk-container-id-3 div.sk-estimator {font-family: monospace;background-color: #f0f8ff;border: 1px dotted black;border-radius: 0.25em;box-sizing: border-box;margin-bottom: 0.5em;}#sk-container-id-3 div.sk-estimator:hover {background-color: #d4ebff;}#sk-container-id-3 div.sk-parallel-item::after {content: \"\";width: 100%;border-bottom: 1px solid gray;flex-grow: 1;}#sk-container-id-3 div.sk-label:hover label.sk-toggleable__label {background-color: #d4ebff;}#sk-container-id-3 div.sk-serial::before {content: \"\";position: absolute;border-left: 1px solid gray;box-sizing: border-box;top: 0;bottom: 0;left: 50%;z-index: 0;}#sk-container-id-3 div.sk-serial {display: flex;flex-direction: column;align-items: center;background-color: white;padding-right: 0.2em;padding-left: 0.2em;position: relative;}#sk-container-id-3 div.sk-item {position: relative;z-index: 1;}#sk-container-id-3 div.sk-parallel {display: flex;align-items: stretch;justify-content: center;background-color: white;position: relative;}#sk-container-id-3 div.sk-item::before, #sk-container-id-3 div.sk-parallel-item::before {content: \"\";position: absolute;border-left: 1px solid gray;box-sizing: border-box;top: 0;bottom: 0;left: 50%;z-index: -1;}#sk-container-id-3 div.sk-parallel-item {display: flex;flex-direction: column;z-index: 1;position: relative;background-color: white;}#sk-container-id-3 div.sk-parallel-item:first-child::after {align-self: flex-end;width: 50%;}#sk-container-id-3 div.sk-parallel-item:last-child::after {align-self: flex-start;width: 50%;}#sk-container-id-3 div.sk-parallel-item:only-child::after {width: 0;}#sk-container-id-3 div.sk-dashed-wrapped {border: 1px dashed gray;margin: 0 0.4em 0.5em 0.4em;box-sizing: border-box;padding-bottom: 0.4em;background-color: white;}#sk-container-id-3 div.sk-label label {font-family: monospace;font-weight: bold;display: inline-block;line-height: 1.2em;}#sk-container-id-3 div.sk-label-container {text-align: center;}#sk-container-id-3 div.sk-container {/* jupyter's `normalize.less` sets `[hidden] { display: none; }` but bootstrap.min.css set `[hidden] { display: none !important; }` so we also need the `!important` here to be able to override the default hidden behavior on the sphinx rendered scikit-learn.org. See: https://github.com/scikit-learn/scikit-learn/issues/21755 */display: inline-block !important;position: relative;}#sk-container-id-3 div.sk-text-repr-fallback {display: none;}</style><div id=\"sk-container-id-3\" class=\"sk-top-container\"><div class=\"sk-text-repr-fallback\"><pre>LogisticRegression(max_iter=1000)</pre><b>In a Jupyter environment, please rerun this cell to show the HTML representation or trust the notebook. <br />On GitHub, the HTML representation is unable to render, please try loading this page with nbviewer.org.</b></div><div class=\"sk-container\" hidden><div class=\"sk-item\"><div class=\"sk-estimator sk-toggleable\"><input class=\"sk-toggleable__control sk-hidden--visually\" id=\"sk-estimator-id-3\" type=\"checkbox\" checked><label for=\"sk-estimator-id-3\" class=\"sk-toggleable__label sk-toggleable__label-arrow\">LogisticRegression</label><div class=\"sk-toggleable__content\"><pre>LogisticRegression(max_iter=1000)</pre></div></div></div></div></div>"
      ],
      "text/plain": [
       "LogisticRegression(max_iter=1000)"
      ]
     },
     "execution_count": 34,
     "metadata": {},
     "output_type": "execute_result"
    }
   ],
   "source": [
    "X_train, X_test, y_train, y_test = train_test_split(X, df['label'], test_size=0.3)\n",
    "\n",
    "model = LogisticRegression(max_iter=1000)\n",
    "model.fit(X_train, y_train)"
   ]
  },
  {
   "cell_type": "code",
   "execution_count": 35,
   "id": "fa4ee517",
   "metadata": {},
   "outputs": [],
   "source": [
    "pred = model.predict(X_test)"
   ]
  },
  {
   "cell_type": "code",
   "execution_count": 36,
   "id": "35a0c08c",
   "metadata": {
    "scrolled": true
   },
   "outputs": [
    {
     "name": "stdout",
     "output_type": "stream",
     "text": [
      "              precision    recall  f1-score   support\n",
      "\n",
      "      center       0.89      0.63      0.74      1236\n",
      "        left       0.70      0.90      0.79      2279\n",
      "       right       0.80      0.67      0.73      1694\n",
      "\n",
      "    accuracy                           0.76      5209\n",
      "   macro avg       0.80      0.73      0.75      5209\n",
      "weighted avg       0.78      0.76      0.76      5209\n",
      "\n",
      "[[ 773  371   92]\n",
      " [  40 2049  190]\n",
      " [  54  511 1129]]\n"
     ]
    }
   ],
   "source": [
    "print(classification_report(y_test, pred))\n",
    "print(confusion_matrix(y_test, pred))"
   ]
  },
  {
   "cell_type": "code",
   "execution_count": 37,
   "id": "629e7fe0",
   "metadata": {},
   "outputs": [],
   "source": [
    "import joblib"
   ]
  },
  {
   "cell_type": "code",
   "execution_count": 29,
   "id": "d9e4b5ea",
   "metadata": {},
   "outputs": [
    {
     "data": {
      "text/plain": [
       "['large_data_log.joblib']"
      ]
     },
     "execution_count": 29,
     "metadata": {},
     "output_type": "execute_result"
    }
   ],
   "source": [
    "joblib.dump(model, 'large_data_log.joblib')"
   ]
  },
  {
   "cell_type": "code",
   "execution_count": 42,
   "id": "9a866c14",
   "metadata": {},
   "outputs": [],
   "source": [
    "df.to_csv('preprocessed_data.csv', index=False)"
   ]
  },
  {
   "cell_type": "code",
   "execution_count": 40,
   "id": "23502d88",
   "metadata": {},
   "outputs": [
    {
     "data": {
      "text/html": [
       "<div>\n",
       "<style scoped>\n",
       "    .dataframe tbody tr th:only-of-type {\n",
       "        vertical-align: middle;\n",
       "    }\n",
       "\n",
       "    .dataframe tbody tr th {\n",
       "        vertical-align: top;\n",
       "    }\n",
       "\n",
       "    .dataframe thead th {\n",
       "        text-align: right;\n",
       "    }\n",
       "</style>\n",
       "<table border=\"1\" class=\"dataframe\">\n",
       "  <thead>\n",
       "    <tr style=\"text-align: right;\">\n",
       "      <th></th>\n",
       "      <th>text</th>\n",
       "      <th>label</th>\n",
       "      <th>text_proc</th>\n",
       "    </tr>\n",
       "  </thead>\n",
       "  <tbody>\n",
       "    <tr>\n",
       "      <th>0</th>\n",
       "      <td>Pfizer says its Covid-19 vaccine is safe and 1...</td>\n",
       "      <td>left</td>\n",
       "      <td>Pfizer say Covid-19 vaccine safe 100 percent e...</td>\n",
       "    </tr>\n",
       "    <tr>\n",
       "      <th>1</th>\n",
       "      <td>The NBC-Wall Street Journal's latest national ...</td>\n",
       "      <td>left</td>\n",
       "      <td>NBC Wall Street Journal late national poll rel...</td>\n",
       "    </tr>\n",
       "    <tr>\n",
       "      <th>2</th>\n",
       "      <td>September 19th, 2012   06:58 AM ET...</td>\n",
       "      <td>left</td>\n",
       "      <td>September 19th 2012    06:58 et  ...</td>\n",
       "    </tr>\n",
       "    <tr>\n",
       "      <th>3</th>\n",
       "      <td>Story highlightsCNN/ORC International poll: Si...</td>\n",
       "      <td>left</td>\n",
       "      <td>story highlightsCNN ORC International poll 10 ...</td>\n",
       "    </tr>\n",
       "    <tr>\n",
       "      <th>4</th>\n",
       "      <td>Washington (CNN)Dr. Anthony Fauci, the nation'...</td>\n",
       "      <td>left</td>\n",
       "      <td>Washington CNN)Dr Anthony Fauci nation infecti...</td>\n",
       "    </tr>\n",
       "    <tr>\n",
       "      <th>...</th>\n",
       "      <td>...</td>\n",
       "      <td>...</td>\n",
       "      <td>...</td>\n",
       "    </tr>\n",
       "    <tr>\n",
       "      <th>17357</th>\n",
       "      <td>By Daniel De SimoneBBC NewsImage source, COUNT...</td>\n",
       "      <td>center</td>\n",
       "      <td>Daniel De SimoneBBC NewsImage source COUNTER t...</td>\n",
       "    </tr>\n",
       "    <tr>\n",
       "      <th>17358</th>\n",
       "      <td>...</td>\n",
       "      <td>center</td>\n",
       "      <td>...</td>\n",
       "    </tr>\n",
       "    <tr>\n",
       "      <th>17359</th>\n",
       "      <td>...</td>\n",
       "      <td>center</td>\n",
       "      <td>...</td>\n",
       "    </tr>\n",
       "    <tr>\n",
       "      <th>17360</th>\n",
       "      <td>President BidenJoe BidenUS could spend M month...</td>\n",
       "      <td>center</td>\n",
       "      <td>President BidenJoe bidenus spend M monthly tes...</td>\n",
       "    </tr>\n",
       "    <tr>\n",
       "      <th>17361</th>\n",
       "      <td>Telecommunications workers Chris Viens and Guy...</td>\n",
       "      <td>center</td>\n",
       "      <td>telecommunication worker Chris Viens Guy Glove...</td>\n",
       "    </tr>\n",
       "  </tbody>\n",
       "</table>\n",
       "<p>17362 rows × 3 columns</p>\n",
       "</div>"
      ],
      "text/plain": [
       "                                                    text   label  \\\n",
       "0      Pfizer says its Covid-19 vaccine is safe and 1...    left   \n",
       "1      The NBC-Wall Street Journal's latest national ...    left   \n",
       "2                  September 19th, 2012   06:58 AM ET...    left   \n",
       "3      Story highlightsCNN/ORC International poll: Si...    left   \n",
       "4      Washington (CNN)Dr. Anthony Fauci, the nation'...    left   \n",
       "...                                                  ...     ...   \n",
       "17357  By Daniel De SimoneBBC NewsImage source, COUNT...  center   \n",
       "17358                                                ...  center   \n",
       "17359                                                ...  center   \n",
       "17360  President BidenJoe BidenUS could spend M month...  center   \n",
       "17361  Telecommunications workers Chris Viens and Guy...  center   \n",
       "\n",
       "                                               text_proc  \n",
       "0      Pfizer say Covid-19 vaccine safe 100 percent e...  \n",
       "1      NBC Wall Street Journal late national poll rel...  \n",
       "2                   September 19th 2012    06:58 et  ...  \n",
       "3      story highlightsCNN ORC International poll 10 ...  \n",
       "4      Washington CNN)Dr Anthony Fauci nation infecti...  \n",
       "...                                                  ...  \n",
       "17357  Daniel De SimoneBBC NewsImage source COUNTER t...  \n",
       "17358                                                ...  \n",
       "17359                                                ...  \n",
       "17360  President BidenJoe bidenus spend M monthly tes...  \n",
       "17361  telecommunication worker Chris Viens Guy Glove...  \n",
       "\n",
       "[17362 rows x 3 columns]"
      ]
     },
     "execution_count": 40,
     "metadata": {},
     "output_type": "execute_result"
    }
   ],
   "source": [
    "data = pd.read_csv('preprocessed_data.csv')"
   ]
  },
  {
   "cell_type": "code",
   "execution_count": 41,
   "id": "7bd1d512",
   "metadata": {},
   "outputs": [
    {
     "data": {
      "text/plain": [
       "['vectorizer.joblib']"
      ]
     },
     "execution_count": 41,
     "metadata": {},
     "output_type": "execute_result"
    }
   ],
   "source": [
    "joblib.dump(vectorizer, 'vectorizer.joblib')"
   ]
  },
  {
   "cell_type": "code",
   "execution_count": null,
   "id": "9003e4a8",
   "metadata": {},
   "outputs": [],
   "source": []
  }
 ],
 "metadata": {
  "kernelspec": {
   "display_name": "Python 3 (ipykernel)",
   "language": "python",
   "name": "python3"
  },
  "language_info": {
   "codemirror_mode": {
    "name": "ipython",
    "version": 3
   },
   "file_extension": ".py",
   "mimetype": "text/x-python",
   "name": "python",
   "nbconvert_exporter": "python",
   "pygments_lexer": "ipython3",
   "version": "3.11.5"
  }
 },
 "nbformat": 4,
 "nbformat_minor": 5
}
